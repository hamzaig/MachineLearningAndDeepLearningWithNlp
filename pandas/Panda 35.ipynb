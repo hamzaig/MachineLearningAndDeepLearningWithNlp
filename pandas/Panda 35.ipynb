{
 "cells": [
  {
   "cell_type": "code",
   "execution_count": 7,
   "metadata": {},
   "outputs": [
    {
     "data": {
      "text/plain": [
       "0     Bulbasaur\n",
       "1       Ivysaur\n",
       "2      Venusaur\n",
       "3    Charmander\n",
       "4    Charmeleon\n",
       "Name: Pokemon, dtype: object"
      ]
     },
     "execution_count": 7,
     "metadata": {},
     "output_type": "execute_result"
    }
   ],
   "source": [
    "import pandas as pd\n",
    "poke=pd.read_csv(\"pokemon.csv\",squeeze=True,usecols=['Pokemon'])\n",
    "poke.head(5)"
   ]
  },
  {
   "cell_type": "code",
   "execution_count": 9,
   "metadata": {},
   "outputs": [
    {
     "data": {
      "text/plain": [
       "717      Zygarde\n",
       "633     Zweilous\n",
       "40         Zubat\n",
       "569        Zorua\n",
       "570      Zoroark\n",
       "262    Zigzagoon\n",
       "643       Zekrom\n",
       "522    Zebstrika\n",
       "144       Zapdos\n",
       "334     Zangoose\n",
       "716      Yveltal\n",
       "468      Yanmega\n",
       "192        Yanma\n",
       "561       Yamask\n",
       "715      Xerneas\n",
       "Name: Pokemon, dtype: object"
      ]
     },
     "execution_count": 9,
     "metadata": {},
     "output_type": "execute_result"
    }
   ],
   "source": [
    "poke.sort_values(ascending=False,inplace=True)\n",
    "poke.head(15)"
   ]
  },
  {
   "cell_type": "code",
   "execution_count": 19,
   "metadata": {},
   "outputs": [
    {
     "data": {
      "text/plain": [
       "720    Volcanion\n",
       "719        Hoopa\n",
       "718      Diancie\n",
       "717      Zygarde\n",
       "716      Yveltal\n",
       "715      Xerneas\n",
       "714      Noivern\n",
       "713       Noibat\n",
       "712      Avalugg\n",
       "711     Bergmite\n",
       "Name: Pokemon, dtype: object"
      ]
     },
     "execution_count": 19,
     "metadata": {},
     "output_type": "execute_result"
    }
   ],
   "source": [
    "poke.sort_index(ascending=False,inplace=True)\n",
    "poke.head(10)"
   ]
  }
 ],
 "metadata": {
  "kernelspec": {
   "display_name": "Python 3",
   "language": "python",
   "name": "python3"
  },
  "language_info": {
   "codemirror_mode": {
    "name": "ipython",
    "version": 3
   },
   "file_extension": ".py",
   "mimetype": "text/x-python",
   "name": "python",
   "nbconvert_exporter": "python",
   "pygments_lexer": "ipython3",
   "version": "3.7.6"
  }
 },
 "nbformat": 4,
 "nbformat_minor": 4
}
