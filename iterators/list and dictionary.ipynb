{
 "cells": [
  {
   "cell_type": "code",
   "execution_count": 15,
   "metadata": {},
   "outputs": [],
   "source": [
    "#cat_dictionary={\"size\":\"fat\",\"color\":\"black\",\"disposition\":\"loud\"}\n",
    "\n",
    "#cat_dictionary[\"size\"]\n",
    "#hamza=\"Raazia Seemab\"\n"
   ]
  },
  {
   "cell_type": "code",
   "execution_count": 7,
   "metadata": {},
   "outputs": [],
   "source": [
    "#spam1=['1','2','3']\n",
    "#spam2=['3','2','1']\n",
    "#spam2==spam1"
   ]
  },
  {
   "cell_type": "code",
   "execution_count": 9,
   "metadata": {},
   "outputs": [],
   "source": [
    "#dic1={\"no\":\"1\",\"abc\":\"a\"}\n",
    "#dic2={\"abc\":\"a\",\"no\":\"1\"}\n",
    "#dic1==dic2"
   ]
  },
  {
   "cell_type": "code",
   "execution_count": 11,
   "metadata": {},
   "outputs": [],
   "source": [
    "cat_dictionary={\"size\":\"fat\",\"color\":\"black\",\"disposition\":\"loud\"}\n",
    "for v in cat_dictionary.values():\n",
    "    print(v)"
   ]
  },
  {
   "cell_type": "code",
   "execution_count": 20,
   "metadata": {},
   "outputs": [
    {
     "name": "stdout",
     "output_type": "stream",
     "text": [
      "size\n",
      "color\n",
      "disposition\n"
     ]
    }
   ],
   "source": [
    "for v in cat_dictionary.keys():\n",
    "    print(v)"
   ]
  },
  {
   "cell_type": "code",
   "execution_count": 21,
   "metadata": {},
   "outputs": [
    {
     "name": "stdout",
     "output_type": "stream",
     "text": [
      "('size', 'fat')\n",
      "('color', 'black')\n",
      "('disposition', 'loud')\n"
     ]
    }
   ],
   "source": [
    "for v in cat_dictionary.items():\n",
    "    print(v)"
   ]
  },
  {
   "cell_type": "code",
   "execution_count": null,
   "metadata": {},
   "outputs": [],
   "source": [
    "birthday={\"hamza\":\"13\",\"ali\":\"14\",\"khalid\":\"01\",\"azeez\":\"06\"}\n",
    "\n",
    "while True:\n",
    "    name=input(\"Please Enter Name\")\n",
    "    if name==\"\":\n",
    "        break\n",
    "    elif name in birthday:\n",
    "        print(birthday[name]+\" is the birthday of \"+name)\n",
    "    else:\n",
    "        print(\"i don't have the birthdate for \"+name)\n",
    "        bday=input(\"what is your birthday\")\n",
    "        birthday[name]=bday\n",
    "        print(\"birthday Database is updated\")\n",
    "        \n",
    "        "
   ]
  },
  {
   "cell_type": "code",
   "execution_count": null,
   "metadata": {},
   "outputs": [],
   "source": []
  }
 ],
 "metadata": {
  "kernelspec": {
   "display_name": "Python 3",
   "language": "python",
   "name": "python3"
  },
  "language_info": {
   "codemirror_mode": {
    "name": "ipython",
    "version": 3
   },
   "file_extension": ".py",
   "mimetype": "text/x-python",
   "name": "python",
   "nbconvert_exporter": "python",
   "pygments_lexer": "ipython3",
   "version": "3.7.6"
  }
 },
 "nbformat": 4,
 "nbformat_minor": 4
}
